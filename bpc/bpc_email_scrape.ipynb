{
 "cells": [
  {
   "cell_type": "code",
   "execution_count": 1,
   "id": "815318b1-e4cd-463f-b29f-40e12dcd737b",
   "metadata": {},
   "outputs": [],
   "source": [
    "from bpc import get_bpc_emails"
   ]
  },
  {
   "cell_type": "code",
   "execution_count": null,
   "id": "48aafd3e-b9e2-44fe-9aa3-b38234331f96",
   "metadata": {},
   "outputs": [],
   "source": [
    "get_bpc_emails()"
   ]
  }
 ],
 "metadata": {
  "kernelspec": {
   "display_name": "Python 3",
   "language": "python",
   "name": "python3"
  },
  "language_info": {
   "codemirror_mode": {
    "name": "ipython",
    "version": 3
   },
   "file_extension": ".py",
   "mimetype": "text/x-python",
   "name": "python",
   "nbconvert_exporter": "python",
   "pygments_lexer": "ipython3",
   "version": "3.8.8"
  }
 },
 "nbformat": 4,
 "nbformat_minor": 5
}
